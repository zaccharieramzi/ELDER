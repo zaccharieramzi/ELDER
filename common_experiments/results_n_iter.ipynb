{
 "cells": [
  {
   "cell_type": "code",
   "execution_count": null,
   "metadata": {},
   "outputs": [],
   "source": [
    "import pandas as pd\n",
    "import numpy as np\n",
    "import matplotlib.pyplot as plt"
   ]
  },
  {
   "cell_type": "code",
   "execution_count": null,
   "metadata": {},
   "outputs": [],
   "source": [
    "plt.style.use(['science'])\n",
    "plt.rcParams['xtick.labelsize'] = 6\n",
    "plt.rcParams['ytick.labelsize'] = 6\n",
    "plt.rcParams['axes.labelsize'] = 8\n",
    "plt.rcParams['axes.titlesize'] = 10\n",
    "plt.rcParams['lines.linewidth'] = 2.2"
   ]
  },
  {
   "cell_type": "code",
   "execution_count": null,
   "metadata": {},
   "outputs": [],
   "source": [
    "df_results_elder = pd.read_csv(\"../info.csv\")\n",
    "df_results_deq = pd.read_csv(\"../deq.csv\")"
   ]
  },
  {
   "cell_type": "code",
   "execution_count": null,
   "metadata": {},
   "outputs": [],
   "source": [
    "def plot_deq_results(ax):\n",
    "    accuracies = df_results_deq['final_psnr'].values\n",
    "    n_iters = df_results_deq['max_iter'].values\n",
    "    n_iters = np.array([int(n) for n in n_iters])\n",
    "    accuracy_at_100 = accuracies[n_iters == 100]\n",
    "    accuracies = accuracy_at_100 - accuracies\n",
    "    ax.plot(n_iters, accuracies, '-', color='C0', linewidth=3)\n",
    "    ax.axvline(x=100, color='k', linestyle='--')\n",
    "    ax.set_yscale('symlog')\n",
    "    # ax.axhline(y=-accuracy_at_100, color='r', linestyle='--')\n",
    "    ax.axhline(y=0, color='r', linestyle='--')\n",
    "    ax.set_xlabel(r\"$N + \\Delta N$\")\n",
    "    # ax.set_ylabel(r\"$D(N, \\Delta N)$\")\n",
    "    ax.set_ylabel(r\"Performance gap\")\n",
    "    ax.yaxis.label.set_color('C0')\n",
    "    ax.tick_params(axis='y', colors='C0')\n",
    "    ax.set_title('Single-image Super resolution (x3) - DEQ')\n",
    "    \n",
    "\n",
    "\n",
    "\n",
    "plot_deq_results(plt.figure().add_subplot(111))"
   ]
  },
  {
   "cell_type": "code",
   "execution_count": null,
   "metadata": {},
   "outputs": [],
   "source": [
    "def plot_elder_results(ax):\n",
    "    accuracies = df_results_elder['final_psnr'].values\n",
    "    n_iters = df_results_elder['max_iter'].values\n",
    "    n_iters = np.array([int(n) for n in n_iters])\n",
    "    accuracy_at_100 = accuracies[n_iters == 100]\n",
    "    accuracies = accuracy_at_100 - accuracies\n",
    "    ax.plot(n_iters, accuracies, '-', color='C0', linewidth=3)\n",
    "    ax.axvline(x=100, color='k', linestyle='--')\n",
    "    ax.set_yscale('symlog')\n",
    "    # ax.axhline(y=-accuracy_at_100, color='r', linestyle='--')\n",
    "    ax.axhline(y=0, color='r', linestyle='--')\n",
    "    ax.set_xlabel(r\"$N + \\Delta N$\")\n",
    "    # ax.set_ylabel(r\"$D(N, \\Delta N)$\")\n",
    "    ax.set_ylabel(r\"Performance gap\")\n",
    "    ax.yaxis.label.set_color('C0')\n",
    "    ax.tick_params(axis='y', colors='C0')\n",
    "    ax.set_title('Single-image Super resolution (x3) - ELDER')\n",
    "    \n",
    "\n",
    "\n",
    "\n",
    "plot_elder_results(plt.figure().add_subplot(111))"
   ]
  },
  {
   "cell_type": "code",
   "execution_count": null,
   "metadata": {},
   "outputs": [],
   "source": [
    "#General figure\n",
    "# This figure is basically a single figure with all the plots above\n",
    "# It is useful for the paper\n",
    "fig, axs = plt.subplots(2, 1, figsize=(5.5, 2.8))\n",
    "plot_deq_results(axs[0])\n",
    "plot_elder_results(axs[1])\n",
    "plt.tight_layout()\n",
    "plt.savefig('relative_error_vs_n_iters_elder.pdf', bbox_inches='tight', pad_inches=0, dpi=300)"
   ]
  },
  {
   "cell_type": "code",
   "execution_count": null,
   "metadata": {},
   "outputs": [],
   "source": []
  }
 ],
 "metadata": {
  "kernelspec": {
   "display_name": "venv",
   "language": "python",
   "name": "python3"
  },
  "language_info": {
   "codemirror_mode": {
    "name": "ipython",
    "version": 3
   },
   "file_extension": ".py",
   "mimetype": "text/x-python",
   "name": "python",
   "nbconvert_exporter": "python",
   "pygments_lexer": "ipython3",
   "version": "3.9.16"
  },
  "orig_nbformat": 4,
  "vscode": {
   "interpreter": {
    "hash": "45dc994e6d7f6addad255018606cd5a9e65bdea1dbd7679edd9586a177cfe165"
   }
  }
 },
 "nbformat": 4,
 "nbformat_minor": 2
}
